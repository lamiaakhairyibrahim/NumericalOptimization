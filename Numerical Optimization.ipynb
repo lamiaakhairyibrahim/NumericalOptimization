{
 "cells": [
  {
   "cell_type": "markdown",
   "id": "8c5e4499",
   "metadata": {},
   "source": [
    "# Numerical Optimization"
   ]
  },
  {
   "cell_type": "markdown",
   "id": "2a628019",
   "metadata": {},
   "source": [
    "For this practical work, we will have to develop a Python program that is able to implement the type of gradient descent variants in order to achieve the linear regression of a set of dataset."
   ]
  },
  {
   "cell_type": "code",
   "execution_count": 37,
   "id": "3013f024",
   "metadata": {},
   "outputs": [],
   "source": [
    "import numpy as np\n",
    "import matplotlib.pyplot as plt"
   ]
  },
  {
   "cell_type": "code",
   "execution_count": 38,
   "id": "dddc902b",
   "metadata": {},
   "outputs": [
    {
     "data": {
      "text/plain": [
       "array([[ 73.,  80.,  75., 152.],\n",
       "       [ 93.,  88.,  93., 185.],\n",
       "       [ 89.,  91.,  90., 180.],\n",
       "       [ 96.,  98., 100., 196.],\n",
       "       [ 73.,  66.,  70., 142.],\n",
       "       [ 53.,  46.,  55., 101.],\n",
       "       [ 69.,  74.,  77., 149.],\n",
       "       [ 47.,  56.,  60., 115.],\n",
       "       [ 87.,  79.,  90., 175.],\n",
       "       [ 79.,  70.,  88., 164.],\n",
       "       [ 69.,  70.,  73., 141.],\n",
       "       [ 70.,  65.,  74., 141.],\n",
       "       [ 93.,  95.,  91., 184.],\n",
       "       [ 79.,  80.,  73., 152.],\n",
       "       [ 70.,  73.,  78., 148.],\n",
       "       [ 93.,  89.,  96., 192.],\n",
       "       [ 78.,  75.,  68., 147.],\n",
       "       [ 81.,  90.,  93., 183.],\n",
       "       [ 88.,  92.,  86., 177.],\n",
       "       [ 78.,  83.,  77., 159.],\n",
       "       [ 82.,  86.,  90., 177.],\n",
       "       [ 86.,  82.,  89., 175.],\n",
       "       [ 78.,  83.,  85., 175.],\n",
       "       [ 76.,  83.,  71., 149.],\n",
       "       [ 96.,  93.,  95., 192.]])"
      ]
     },
     "execution_count": 38,
     "metadata": {},
     "output_type": "execute_result"
    }
   ],
   "source": [
    "data_m = np.genfromtxt('MultipleLR.csv - MultipleLR.csv.csv', delimiter=',')\n",
    "data_m"
   ]
  },
  {
   "cell_type": "code",
   "execution_count": 39,
   "id": "ebe4a011",
   "metadata": {},
   "outputs": [
    {
     "data": {
      "text/plain": [
       "(25, 4)"
      ]
     },
     "execution_count": 39,
     "metadata": {},
     "output_type": "execute_result"
    }
   ],
   "source": [
    "data_m.shape"
   ]
  },
  {
   "cell_type": "code",
   "execution_count": 40,
   "id": "102fd5a3",
   "metadata": {},
   "outputs": [
    {
     "data": {
      "text/plain": [
       "(25, 3)"
      ]
     },
     "execution_count": 40,
     "metadata": {},
     "output_type": "execute_result"
    }
   ],
   "source": [
    "x0 = np.ones([25,1])\n",
    "x= data_m[:,0:3]\n",
    "x.shape"
   ]
  },
  {
   "cell_type": "code",
   "execution_count": 41,
   "id": "bf1ec3a7",
   "metadata": {},
   "outputs": [
    {
     "data": {
      "text/plain": [
       "array([[  1.,  73.,  80.,  75.],\n",
       "       [  1.,  93.,  88.,  93.],\n",
       "       [  1.,  89.,  91.,  90.],\n",
       "       [  1.,  96.,  98., 100.],\n",
       "       [  1.,  73.,  66.,  70.],\n",
       "       [  1.,  53.,  46.,  55.],\n",
       "       [  1.,  69.,  74.,  77.],\n",
       "       [  1.,  47.,  56.,  60.],\n",
       "       [  1.,  87.,  79.,  90.],\n",
       "       [  1.,  79.,  70.,  88.],\n",
       "       [  1.,  69.,  70.,  73.],\n",
       "       [  1.,  70.,  65.,  74.],\n",
       "       [  1.,  93.,  95.,  91.],\n",
       "       [  1.,  79.,  80.,  73.],\n",
       "       [  1.,  70.,  73.,  78.],\n",
       "       [  1.,  93.,  89.,  96.],\n",
       "       [  1.,  78.,  75.,  68.],\n",
       "       [  1.,  81.,  90.,  93.],\n",
       "       [  1.,  88.,  92.,  86.],\n",
       "       [  1.,  78.,  83.,  77.],\n",
       "       [  1.,  82.,  86.,  90.],\n",
       "       [  1.,  86.,  82.,  89.],\n",
       "       [  1.,  78.,  83.,  85.],\n",
       "       [  1.,  76.,  83.,  71.],\n",
       "       [  1.,  96.,  93.,  95.]])"
      ]
     },
     "execution_count": 41,
     "metadata": {},
     "output_type": "execute_result"
    }
   ],
   "source": [
    "x_points = np.concatenate((x0,x),axis=1)\n",
    "x_points"
   ]
  },
  {
   "cell_type": "code",
   "execution_count": 42,
   "id": "f7ba5f89",
   "metadata": {},
   "outputs": [
    {
     "data": {
      "text/plain": [
       "(25, 4)"
      ]
     },
     "execution_count": 42,
     "metadata": {},
     "output_type": "execute_result"
    }
   ],
   "source": [
    "x_points.shape"
   ]
  },
  {
   "cell_type": "code",
   "execution_count": 43,
   "id": "4e9f43de",
   "metadata": {},
   "outputs": [
    {
     "data": {
      "text/plain": [
       "(4, 1)"
      ]
     },
     "execution_count": 43,
     "metadata": {},
     "output_type": "execute_result"
    }
   ],
   "source": [
    "theta = np.zeros(4)\n",
    "theta = np.reshape(theta,(4,1))\n",
    "theta.shape"
   ]
  },
  {
   "cell_type": "code",
   "execution_count": 44,
   "id": "84059121",
   "metadata": {},
   "outputs": [
    {
     "data": {
      "text/plain": [
       "array([[152.],\n",
       "       [185.],\n",
       "       [180.],\n",
       "       [196.],\n",
       "       [142.],\n",
       "       [101.],\n",
       "       [149.],\n",
       "       [115.],\n",
       "       [175.],\n",
       "       [164.],\n",
       "       [141.],\n",
       "       [141.],\n",
       "       [184.],\n",
       "       [152.],\n",
       "       [148.],\n",
       "       [192.],\n",
       "       [147.],\n",
       "       [183.],\n",
       "       [177.],\n",
       "       [159.],\n",
       "       [177.],\n",
       "       [175.],\n",
       "       [175.],\n",
       "       [149.],\n",
       "       [192.]])"
      ]
     },
     "execution_count": 44,
     "metadata": {},
     "output_type": "execute_result"
    }
   ],
   "source": [
    "y_points = data_m[:,3]\n",
    "y_points = np.reshape(y_points,(25,1))\n",
    "y_points"
   ]
  },
  {
   "cell_type": "code",
   "execution_count": 45,
   "id": "a9e6fd17",
   "metadata": {},
   "outputs": [
    {
     "data": {
      "text/plain": [
       "array([[0.],\n",
       "       [0.],\n",
       "       [0.],\n",
       "       [0.],\n",
       "       [0.],\n",
       "       [0.],\n",
       "       [0.],\n",
       "       [0.],\n",
       "       [0.],\n",
       "       [0.],\n",
       "       [0.],\n",
       "       [0.],\n",
       "       [0.],\n",
       "       [0.],\n",
       "       [0.],\n",
       "       [0.],\n",
       "       [0.],\n",
       "       [0.],\n",
       "       [0.],\n",
       "       [0.],\n",
       "       [0.],\n",
       "       [0.],\n",
       "       [0.],\n",
       "       [0.],\n",
       "       [0.]])"
      ]
     },
     "execution_count": 45,
     "metadata": {},
     "output_type": "execute_result"
    }
   ],
   "source": [
    "h = x_points@theta\n",
    "h"
   ]
  },
  {
   "cell_type": "code",
   "execution_count": 46,
   "id": "4bc21f64",
   "metadata": {},
   "outputs": [
    {
     "data": {
      "text/plain": [
       "25"
      ]
     },
     "execution_count": 46,
     "metadata": {},
     "output_type": "execute_result"
    }
   ],
   "source": [
    "len(x_points)"
   ]
  },
  {
   "cell_type": "code",
   "execution_count": 47,
   "id": "40c03847",
   "metadata": {},
   "outputs": [
    {
     "data": {
      "text/plain": [
       "(25, 1)"
      ]
     },
     "execution_count": 47,
     "metadata": {},
     "output_type": "execute_result"
    }
   ],
   "source": [
    "\n",
    "m_m = len(x_points)\n",
    "error = h - y_points\n",
    "loss = (error.T@error)/(2*m_m)\n",
    "error.shape"
   ]
  },
  {
   "cell_type": "code",
   "execution_count": 48,
   "id": "dc3ed170",
   "metadata": {},
   "outputs": [
    {
     "data": {
      "text/plain": [
       "(4, 1)"
      ]
     },
     "execution_count": 48,
     "metadata": {},
     "output_type": "execute_result"
    }
   ],
   "source": [
    "grad_theta =  (x_points.T@error)/(m_m)\n",
    "grad_theta.shape"
   ]
  },
  {
   "cell_type": "markdown",
   "id": "49af0dc2",
   "metadata": {},
   "source": [
    "Step1: Initialize parameters (theta_0 & theta_1) with random value or simply zero. Also choose the Learning rate.\n",
    "\n",
    "Step2: Use (theta_0 & theta_1) to predict the output h(x)= theta_0 + theta_1 * x.\n",
    "\n",
    "Step3: Calculate Cost function 𝑱(theta_0,theta_1 ).\n",
    "\n",
    "Step4: Calculate the gradient.\n",
    "\n",
    "Step5: Update the parameters (simultaneously).\n",
    "\n",
    "Step6: Repeat from 2 to 5 until converge to the minimum or achieve maximum iterations.\n"
   ]
  },
  {
   "cell_type": "markdown",
   "id": "87809af5",
   "metadata": {},
   "source": [
    "# Gradient descent"
   ]
  },
  {
   "cell_type": "code",
   "execution_count": 49,
   "id": "fa9e7fae",
   "metadata": {},
   "outputs": [
    {
     "name": "stdout",
     "output_type": "stream",
     "text": [
      "[[0.00825092]\n",
      " [0.66339208]\n",
      " [0.66651817]\n",
      " [0.69515767]]\n"
     ]
    },
    {
     "data": {
      "text/plain": [
       "(4, 1)"
      ]
     },
     "execution_count": 49,
     "metadata": {},
     "output_type": "execute_result"
    }
   ],
   "source": [
    "def GD(x,y,learning_rat):\n",
    "    theta = np.zeros(4)\n",
    "    theta = np.reshape(theta,(4,1))\n",
    "    m_m = len(x)\n",
    "    loss = []\n",
    "    for j in range(100):\n",
    "        h = x_points @ theta\n",
    "        error = h - y_points\n",
    "        j_of_theta_0_1 = (1/(2*m_m))*((error.T@error))\n",
    "        loss.append(j_of_theta_0_1[0,0])\n",
    "        grad_theta = (1/m_m)*((x_points.T@error))\n",
    "        u=learning_rat*grad_theta \n",
    "        theta  = theta - u\n",
    "    return loss,theta\n",
    "        \n",
    "loss1,theta1 = GD(x_points,y_points,0.00001)        \n",
    "print(theta1)\n",
    "theta1.shape"
   ]
  },
  {
   "cell_type": "code",
   "execution_count": 14,
   "id": "a95b314c",
   "metadata": {},
   "outputs": [
    {
     "data": {
      "text/plain": [
       "[13405.98,\n",
       " 8668.481648916411,\n",
       " 5605.887123892012,\n",
       " 3626.04772762138,\n",
       " 2346.1641441540755,\n",
       " 1518.77265878643,\n",
       " 983.898351127321,\n",
       " 638.1241396672503,\n",
       " 414.59521540367524,\n",
       " 270.0927461907812,\n",
       " 176.67756834060293,\n",
       " 116.28818345470309,\n",
       " 77.24858977294613,\n",
       " 52.01074149671197,\n",
       " 35.695143354522195,\n",
       " 25.147406152168898,\n",
       " 18.328349475478433,\n",
       " 13.919728648347016,\n",
       " 11.069353735031079,\n",
       " 9.226319657149938,\n",
       " 8.034489369807977,\n",
       " 7.263635199060095,\n",
       " 6.764924602439199,\n",
       " 6.442143578721772,\n",
       " 6.233093808363604,\n",
       " 6.097566684434339,\n",
       " 6.009569027623185,\n",
       " 5.952297336809145,\n",
       " 5.914888852682987,\n",
       " 5.890321256541236,\n",
       " 5.874054913579862,\n",
       " 5.863155140086952,\n",
       " 5.85572478596842,\n",
       " 5.85053742313125,\n",
       " 5.8468002171463835,\n",
       " 5.844000633716558,\n",
       " 5.841807340832502,\n",
       " 5.840006146169998,\n",
       " 5.838458583301942,\n",
       " 5.837075139420019,\n",
       " 5.835797948178911,\n",
       " 5.8345896013453835,\n",
       " 5.833425915998187,\n",
       " 5.832291258826161,\n",
       " 5.831175523482669,\n",
       " 5.8300721765721075,\n",
       " 5.828976994461982,\n",
       " 5.827887246684876,\n",
       " 5.826801168042007,\n",
       " 5.82571761734042,\n",
       " 5.824635856780719,\n",
       " 5.823555409340632,\n",
       " 5.82247596657936,\n",
       " 5.821397329036988,\n",
       " 5.820319367705228,\n",
       " 5.819241999119827,\n",
       " 5.818165169258865,\n",
       " 5.817088843133721,\n",
       " 5.816012998059985,\n",
       " 5.814937619307428,\n",
       " 5.813862697287978,\n",
       " 5.8127882257376955,\n",
       " 5.811714200541562,\n",
       " 5.810640618973874,\n",
       " 5.809567479207054,\n",
       " 5.808494779994074,\n",
       " 5.807422520463323,\n",
       " 5.806350699985892,\n",
       " 5.805279318089797,\n",
       " 5.804208374404493,\n",
       " 5.8031378686250585,\n",
       " 5.802067800489093,\n",
       " 5.80099816976159,\n",
       " 5.799928976225333,\n",
       " 5.798860219674676,\n",
       " 5.797791899911444,\n",
       " 5.796724016742291,\n",
       " 5.795656569977094,\n",
       " 5.794589559427741,\n",
       " 5.7935229849075744,\n",
       " 5.79245684623079,\n",
       " 5.791391143212226,\n",
       " 5.790325875667147,\n",
       " 5.789261043411097,\n",
       " 5.788196646259912,\n",
       " 5.7871326840295145,\n",
       " 5.786069156536063,\n",
       " 5.785006063595756,\n",
       " 5.783943405024921,\n",
       " 5.7828811806400005,\n",
       " 5.781819390257485,\n",
       " 5.780758033694026,\n",
       " 5.77969711076624,\n",
       " 5.778636621290969,\n",
       " 5.777576565085004,\n",
       " 5.776516941965314,\n",
       " 5.775457751748873,\n",
       " 5.774398994252813,\n",
       " 5.773340669294267,\n",
       " 5.772282776690524]"
      ]
     },
     "execution_count": 14,
     "metadata": {},
     "output_type": "execute_result"
    }
   ],
   "source": [
    "loss1"
   ]
  },
  {
   "cell_type": "code",
   "execution_count": 15,
   "id": "a7fe38ca",
   "metadata": {},
   "outputs": [
    {
     "data": {
      "text/plain": [
       "[<matplotlib.lines.Line2D at 0x820b470>]"
      ]
     },
     "execution_count": 15,
     "metadata": {},
     "output_type": "execute_result"
    },
    {
     "data": {
      "image/png": "[encoded data removed]",
      "text/plain": [
       "<Figure size 432x288 with 1 Axes>"
      ]
     },
     "metadata": {
      "needs_background": "light"
     },
     "output_type": "display_data"
    }
   ],
   "source": [
    "plt.plot(loss1)"
   ]
  },
  {
   "cell_type": "markdown",
   "id": "1093d17a",
   "metadata": {},
   "source": [
    "# stocastic Gradient descent"
   ]
  },
  {
   "cell_type": "code",
   "execution_count": 16,
   "id": "f8052bbb",
   "metadata": {},
   "outputs": [
    {
     "name": "stdout",
     "output_type": "stream",
     "text": [
      "[[-1.03907058e+57]\n",
      " [-8.38645221e+58]\n",
      " [-8.43260377e+58]\n",
      " [-8.62928238e+58]]\n"
     ]
    },
    {
     "data": {
      "text/plain": [
       "(4, 1)"
      ]
     },
     "execution_count": 16,
     "metadata": {},
     "output_type": "execute_result"
    }
   ],
   "source": [
    "def stocastic_GD(x,y,learning_rat):\n",
    "    theta = np.zeros(4)\n",
    "    theta = np.reshape(theta,(4,1))\n",
    "    m_m = len(x)\n",
    "    loss = []\n",
    "    for j in range(100):\n",
    "        h = x_points @ theta\n",
    "        error = h - y_points\n",
    "        j_of_theta_0_1 = (1/(2))*((error.T@error))\n",
    "        loss.append(j_of_theta_0_1[0,0])\n",
    "        grad_theta = ((x_points.T@error))\n",
    "        u=learning_rat*grad_theta \n",
    "        theta  = theta - u\n",
    "    return loss,theta\n",
    "        \n",
    "loss2,theta2 = stocastic_GD(x_points,y_points,0.00001)        \n",
    "print(theta2)\n",
    "theta2.shape"
   ]
  },
  {
   "cell_type": "code",
   "execution_count": 17,
   "id": "74d60eb1",
   "metadata": {},
   "outputs": [
    {
     "data": {
      "text/plain": [
       "[<matplotlib.lines.Line2D at 0x8323978>]"
      ]
     },
     "execution_count": 17,
     "metadata": {},
     "output_type": "execute_result"
    },
    {
     "data": {
      "image/png": "[encoded data removed]",
      "text/plain": [
       "<Figure size 432x288 with 1 Axes>"
      ]
     },
     "metadata": {
      "needs_background": "light"
     },
     "output_type": "display_data"
    }
   ],
   "source": [
    "plt.plot(loss1)"
   ]
  },
  {
   "cell_type": "code",
   "execution_count": 18,
   "id": "62bff979",
   "metadata": {},
   "outputs": [
    {
     "name": "stdout",
     "output_type": "stream",
     "text": [
      "[[0.00827324]\n",
      " [0.65902142]\n",
      " [0.66066683]\n",
      " [0.70529561]]\n"
     ]
    },
    {
     "data": {
      "text/plain": [
       "(4, 1)"
      ]
     },
     "execution_count": 18,
     "metadata": {},
     "output_type": "execute_result"
    }
   ],
   "source": [
    "def mini_batch_GD(x,y,learning_rat,batch,n_itration):\n",
    "    theta = np.zeros(4)\n",
    "    theta = np.reshape(theta,(4,1))\n",
    "    m_m = len(x)\n",
    "    loss = []\n",
    "    \n",
    "    for j in range(n_itration):\n",
    "        for i in range(0,m_m,batch):\n",
    "            r=i\n",
    "            t = i+batch\n",
    "            h = x_points[r:t,] @ theta\n",
    "            error = h - y_points[r:t,]\n",
    "            j_of_theta_0_1 = (1/(2*batch))*((error.T@error))\n",
    "            loss.append(j_of_theta_0_1[0,0])\n",
    "            grad_theta = (1/batch)*((x_points[r:t,].T@error))\n",
    "            u=learning_rat*grad_theta \n",
    "            theta  = theta - u\n",
    "    h = x_points @ theta\n",
    "    return loss,theta,h\n",
    "        \n",
    "loss3,theta3,h0 = mini_batch_GD(x_points,y_points,0.00001,12,100)        \n",
    "print(theta3)\n",
    "theta3.shape"
   ]
  },
  {
   "cell_type": "code",
   "execution_count": 19,
   "id": "4bea04b8",
   "metadata": {},
   "outputs": [
    {
     "data": {
      "text/plain": [
       "[<matplotlib.lines.Line2D at 0x112eae80>]"
      ]
     },
     "execution_count": 19,
     "metadata": {},
     "output_type": "execute_result"
    },
    {
     "data": {
      "image/png": "[encoded data removed]",
      "text/plain": [
       "<Figure size 432x288 with 1 Axes>"
      ]
     },
     "metadata": {
      "needs_background": "light"
     },
     "output_type": "display_data"
    }
   ],
   "source": [
    "plt.plot(loss3)"
   ]
  },
  {
   "cell_type": "code",
   "execution_count": 20,
   "id": "f4d991a3",
   "metadata": {},
   "outputs": [
    {
     "data": {
      "text/plain": [
       "array([[153.86735404],\n",
       "       [185.02843808],\n",
       "       [182.25846605],\n",
       "       [198.54923991],\n",
       "       [141.09154038],\n",
       "       [104.11834125],\n",
       "       [148.67785863],\n",
       "       [110.2973591 ],\n",
       "       [173.01242127],\n",
       "       [160.38365725],\n",
       "       [143.21400886],\n",
       "       [141.27499175],\n",
       "       [188.24251465],\n",
       "       [156.41089132],\n",
       "       [149.38150883],\n",
       "       [187.80499175],\n",
       "       [148.9220577 ],\n",
       "       [178.44151472],\n",
       "       [179.438929  ],\n",
       "       [160.55505285],\n",
       "       [174.34198198],\n",
       "       [173.63010473],\n",
       "       [166.19741776],\n",
       "       [155.00523633],\n",
       "       [191.7194277 ]])"
      ]
     },
     "execution_count": 20,
     "metadata": {},
     "output_type": "execute_result"
    }
   ],
   "source": [
    "h0"
   ]
  },
  {
   "cell_type": "code",
   "execution_count": 21,
   "id": "7a078940",
   "metadata": {},
   "outputs": [
    {
     "data": {
      "text/plain": [
       "0.9796589069099776"
      ]
     },
     "execution_count": 21,
     "metadata": {},
     "output_type": "execute_result"
    }
   ],
   "source": [
    "from sklearn.metrics import r2_score\n",
    "r2_score(y_points,h0)"
   ]
  },
  {
   "cell_type": "code",
   "execution_count": 22,
   "id": "76e96630",
   "metadata": {},
   "outputs": [
    {
     "name": "stdout",
     "output_type": "stream",
     "text": [
      "[[0.00506264]\n",
      " [0.4822846 ]\n",
      " [0.52708589]\n",
      " [1.00746147]]\n"
     ]
    },
    {
     "data": {
      "text/plain": [
       "(4, 1)"
      ]
     },
     "execution_count": 22,
     "metadata": {},
     "output_type": "execute_result"
    }
   ],
   "source": [
    "def momentum_GD(x,y,learning_rat,alpha,i):\n",
    "    theta = np.zeros(4)\n",
    "    theta = np.reshape(theta,(4,1))\n",
    "    vt = np.zeros(4)\n",
    "    vt = np.reshape(theta,(4,1))\n",
    "    m_m = 25\n",
    "    loss = []\n",
    "    for j in range(i):\n",
    "        h = x_points @ theta\n",
    "        error = h - y_points\n",
    "        j_of_theta_0_1 = (1/(2*m_m))*((error.T@error))\n",
    "        loss.append(j_of_theta_0_1[0,0])\n",
    "        grad_theta = (1/m_m)*((x_points.T@error))\n",
    "        vt = alpha*vt + learning_rat*grad_theta\n",
    "        theta = theta - vt\n",
    "    return loss,theta,h\n",
    "        \n",
    "loss4,theta4,h4 = momentum_GD(x_points,y_points,0.00001,0.9,700)        \n",
    "print(theta4)\n",
    "theta4.shape"
   ]
  },
  {
   "cell_type": "code",
   "execution_count": 23,
   "id": "aff1fdd5",
   "metadata": {},
   "outputs": [
    {
     "data": {
      "text/plain": [
       "[<matplotlib.lines.Line2D at 0x1bd58ef0>]"
      ]
     },
     "execution_count": 23,
     "metadata": {},
     "output_type": "execute_result"
    },
    {
     "data": {
      "image/png": "[encoded data removed]",
      "text/plain": [
       "<Figure size 432x288 with 1 Axes>"
      ]
     },
     "metadata": {
      "needs_background": "light"
     },
     "output_type": "display_data"
    }
   ],
   "source": [
    "plt.plot(loss4)"
   ]
  },
  {
   "cell_type": "code",
   "execution_count": 24,
   "id": "33a85a8b",
   "metadata": {},
   "outputs": [
    {
     "data": {
      "text/plain": [
       "0.9881839096555364"
      ]
     },
     "execution_count": 24,
     "metadata": {},
     "output_type": "execute_result"
    }
   ],
   "source": [
    "from sklearn.metrics import r2_score\n",
    "r2_score(y_points,h4)"
   ]
  },
  {
   "cell_type": "code",
   "execution_count": 25,
   "id": "5a979e7f",
   "metadata": {},
   "outputs": [
    {
     "name": "stdout",
     "output_type": "stream",
     "text": [
      "[[0.00824883]\n",
      " [0.6629511 ]\n",
      " [0.66602029]\n",
      " [0.6960728 ]]\n"
     ]
    },
    {
     "data": {
      "text/plain": [
       "(4, 1)"
      ]
     },
     "execution_count": 25,
     "metadata": {},
     "output_type": "execute_result"
    }
   ],
   "source": [
    "def NAG_GD(x,y,learning_rat,alpha,i):\n",
    "    theta = np.zeros(4)\n",
    "    theta = np.reshape(theta,(4,1))\n",
    "    vt = np.zeros(4)\n",
    "    vt = np.reshape(theta,(4,1))\n",
    "    theta_temp = np.zeros(4)\n",
    "    theta_temp = np.reshape(theta,(4,1))\n",
    "    m_m = 25\n",
    "    loss = []\n",
    "    for j in range(i):\n",
    "        h = x_points @ theta_temp\n",
    "        error = h - y_points\n",
    "        j_of_theta_0_1 = (1/(2*m_m))*((error.T@error))\n",
    "        loss.append(j_of_theta_0_1[0,0])\n",
    "        theta_temp = theta - (alpha*vt)\n",
    "        grad_theta__temp = (1/m_m)*((x_points.T@error))\n",
    "        theta     = theta_temp - (learning_rat* grad_theta__temp )\n",
    "        vt = alpha*vt + (learning_rat* grad_theta__temp )\n",
    "    return loss,theta,h\n",
    "        \n",
    "loss5,theta5,h5 = NAG_GD(x_points,y_points,0.00001,0.1,100)        \n",
    "print(theta5)\n",
    "theta5.shape"
   ]
  },
  {
   "cell_type": "code",
   "execution_count": 26,
   "id": "c4d710ee",
   "metadata": {},
   "outputs": [
    {
     "data": {
      "text/plain": [
       "[<matplotlib.lines.Line2D at 0x1bdea2e8>]"
      ]
     },
     "execution_count": 26,
     "metadata": {},
     "output_type": "execute_result"
    },
    {
     "data": {
      "image/png": "[encoded data removed]",
      "text/plain": [
       "<Figure size 432x288 with 1 Axes>"
      ]
     },
     "metadata": {
      "needs_background": "light"
     },
     "output_type": "display_data"
    }
   ],
   "source": [
    "plt.plot(loss5)"
   ]
  },
  {
   "cell_type": "code",
   "execution_count": 27,
   "id": "3b015cc2",
   "metadata": {},
   "outputs": [
    {
     "data": {
      "text/plain": [
       "0.9792365877945686"
      ]
     },
     "execution_count": 27,
     "metadata": {},
     "output_type": "execute_result"
    }
   ],
   "source": [
    "from sklearn.metrics import r2_score\n",
    "r2_score(y_points,h5)"
   ]
  },
  {
   "cell_type": "code",
   "execution_count": 28,
   "id": "6d98d2cf",
   "metadata": {},
   "outputs": [
    {
     "name": "stdout",
     "output_type": "stream",
     "text": [
      "[[0.67119319]\n",
      " [0.67072374]\n",
      " [0.67056815]\n",
      " [0.67410134]]\n"
     ]
    },
    {
     "data": {
      "text/plain": [
       "(4, 1)"
      ]
     },
     "execution_count": 28,
     "metadata": {},
     "output_type": "execute_result"
    }
   ],
   "source": [
    "def Adagrad_GD(x,y,learning_rat,alpha,i,epslon):\n",
    "    theta = np.zeros(4)\n",
    "    theta = np.reshape(theta,(4,1))\n",
    "    vt = np.zeros(4)\n",
    "    vt = np.reshape(theta,(4,1))\n",
    "    m_m = 25\n",
    "    loss = []\n",
    "    for j in range(i):\n",
    "        h = x_points @ theta\n",
    "        error = h - y_points\n",
    "        j_of_theta_0_1 = (1/(2*m_m))*((error.T@error))\n",
    "        loss.append(j_of_theta_0_1[0,0])\n",
    "        grad_theta = (1/m_m)*((x_points.T@error))\n",
    "        vt = vt + (grad_theta)**2\n",
    "        theta = theta - ((alpha/((vt**(0.5))+epslon))*grad_theta)\n",
    "    return loss,theta,h\n",
    "        \n",
    "loss6,theta6,h6 = Adagrad_GD(x_points,y_points,0.00001,0.1,100,1e-8)        \n",
    "print(theta6)\n",
    "theta6.shape"
   ]
  },
  {
   "cell_type": "code",
   "execution_count": 29,
   "id": "bffc7c20",
   "metadata": {},
   "outputs": [
    {
     "data": {
      "text/plain": [
       "[<matplotlib.lines.Line2D at 0x6148588>]"
      ]
     },
     "execution_count": 29,
     "metadata": {},
     "output_type": "execute_result"
    },
    {
     "data": {
      "image/png": "[encoded data removed]",
      "text/plain": [
       "<Figure size 432x288 with 1 Axes>"
      ]
     },
     "metadata": {
      "needs_background": "light"
     },
     "output_type": "display_data"
    }
   ],
   "source": [
    "plt.plot(loss6)"
   ]
  },
  {
   "cell_type": "code",
   "execution_count": 30,
   "id": "9feef01f",
   "metadata": {},
   "outputs": [
    {
     "data": {
      "text/plain": [
       "0.9782716491467042"
      ]
     },
     "execution_count": 30,
     "metadata": {},
     "output_type": "execute_result"
    }
   ],
   "source": [
    "from sklearn.metrics import r2_score\n",
    "r2_score(y_points,h6)"
   ]
  },
  {
   "cell_type": "code",
   "execution_count": 31,
   "id": "f4b48ab5",
   "metadata": {},
   "outputs": [
    {
     "name": "stdout",
     "output_type": "stream",
     "text": [
      "[[0.70428124]\n",
      " [0.6955377 ]\n",
      " [0.69295641]\n",
      " [0.77774081]]\n"
     ]
    },
    {
     "data": {
      "text/plain": [
       "(4, 1)"
      ]
     },
     "execution_count": 31,
     "metadata": {},
     "output_type": "execute_result"
    }
   ],
   "source": [
    "#RMSProp\n",
    "def RMSProp_GD(x,y,learning_rat,alpha,i,epslon,beta):\n",
    "    theta = np.zeros(4)\n",
    "    theta = np.reshape(theta,(4,1))\n",
    "    vt = np.zeros(4)\n",
    "    vt = np.reshape(theta,(4,1))\n",
    "    m_m = 25\n",
    "    loss = []\n",
    "    for j in range(i):\n",
    "        h = x_points @ theta\n",
    "        error = h - y_points\n",
    "        j_of_theta_0_1 = (1/(2*m_m))*((error.T@error))\n",
    "        loss.append(j_of_theta_0_1[0,0])\n",
    "        grad_theta = (1/m_m)*((x_points.T@error))\n",
    "        vt = (beta*vt) + ((1-beta) * (grad_theta)**2)\n",
    "        theta = theta - ((alpha/((vt**(0.5))+epslon))*grad_theta)\n",
    "    return loss,theta,h\n",
    "        \n",
    "loss7,theta7,h7 = RMSProp_GD(x_points,y_points,0.00001,0.1,100,1e-8,0.5)        \n",
    "print(theta7)\n",
    "theta7.shape"
   ]
  },
  {
   "cell_type": "code",
   "execution_count": 32,
   "id": "9363cc6a",
   "metadata": {},
   "outputs": [
    {
     "data": {
      "text/plain": [
       "[<matplotlib.lines.Line2D at 0x6106ba8>]"
      ]
     },
     "execution_count": 32,
     "metadata": {},
     "output_type": "execute_result"
    },
    {
     "data": {
      "image/png": "[encoded data removed]",
      "text/plain": [
       "<Figure size 432x288 with 1 Axes>"
      ]
     },
     "metadata": {
      "needs_background": "light"
     },
     "output_type": "display_data"
    }
   ],
   "source": [
    "plt.plot(loss7)"
   ]
  },
  {
   "cell_type": "code",
   "execution_count": 33,
   "id": "7f8e8f4c",
   "metadata": {},
   "outputs": [
    {
     "data": {
      "text/plain": [
       "0.713724444640674"
      ]
     },
     "execution_count": 33,
     "metadata": {},
     "output_type": "execute_result"
    }
   ],
   "source": [
    "from sklearn.metrics import r2_score\n",
    "r2_score(y_points,h7)"
   ]
  },
  {
   "cell_type": "code",
   "execution_count": 34,
   "id": "ce761286",
   "metadata": {},
   "outputs": [
    {
     "name": "stdout",
     "output_type": "stream",
     "text": [
      "[[0.64073933]\n",
      " [0.62888651]\n",
      " [0.62556701]\n",
      " [0.75165174]]\n"
     ]
    },
    {
     "data": {
      "text/plain": [
       "(4, 1)"
      ]
     },
     "execution_count": 34,
     "metadata": {},
     "output_type": "execute_result"
    }
   ],
   "source": [
    "#Adam\n",
    "def Adam_GD(x,y,learning_rat,alpha,i,epslon,beta1,beta2):\n",
    "    theta = np.zeros(4)\n",
    "    theta = np.reshape(theta,(4,1))\n",
    "    vt = np.zeros(4)\n",
    "    vt = np.reshape(theta,(4,1))\n",
    "    mt = np.zeros(4)\n",
    "    mt = np.reshape(theta,(4,1))\n",
    "    m_m = 25\n",
    "    loss = []\n",
    "    for j in range(i):\n",
    "        h = x_points @ theta\n",
    "        error = h - y_points\n",
    "        j_of_theta_0_1 = (1/(2*m_m))*((error.T@error))\n",
    "        loss.append(j_of_theta_0_1[0,0])\n",
    "        grad_theta = (1/m_m)*((x_points.T@error))\n",
    "        mt = (beta1*mt) + ((1-beta1) * (grad_theta))\n",
    "        vt = (beta2*vt) + ((1-beta2) * (grad_theta)**2)\n",
    "        theta = theta - ((alpha/((vt**(0.5))+epslon))*mt)\n",
    "    return loss,theta,h\n",
    "        \n",
    "loss8,theta8,h8 = Adam_GD(x_points , y_points , 0.00001 ,0.1,100,1e-8,0.9,0.999)       \n",
    "print(theta8)\n",
    "theta8.shape"
   ]
  },
  {
   "cell_type": "code",
   "execution_count": 35,
   "id": "dc0441bf",
   "metadata": {},
   "outputs": [
    {
     "data": {
      "text/plain": [
       "[<matplotlib.lines.Line2D at 0x6251320>]"
      ]
     },
     "execution_count": 35,
     "metadata": {},
     "output_type": "execute_result"
    },
    {
     "data": {
      "image/png": "[encoded data removed]",
      "text/plain": [
       "<Figure size 432x288 with 1 Axes>"
      ]
     },
     "metadata": {
      "needs_background": "light"
     },
     "output_type": "display_data"
    }
   ],
   "source": [
    "plt.plot(loss8)"
   ]
  },
  {
   "cell_type": "code",
   "execution_count": 36,
   "id": "1738f95e",
   "metadata": {},
   "outputs": [
    {
     "data": {
      "text/plain": [
       "0.9807666468764688"
      ]
     },
     "execution_count": 36,
     "metadata": {},
     "output_type": "execute_result"
    }
   ],
   "source": [
    "from sklearn.metrics import r2_score\n",
    "r2_score(y_points,h8)"
   ]
  },
  {
   "cell_type": "code",
   "execution_count": null,
   "id": "aad0d2a8",
   "metadata": {},
   "outputs": [],
   "source": []
  }
 ],
 "metadata": {
  "kernelspec": {
   "display_name": "Python 3 (ipykernel)",
   "language": "python",
   "name": "python3"
  },
  "language_info": {
   "codemirror_mode": {
    "name": "ipython",
    "version": 3
   },
   "file_extension": ".py",
   "mimetype": "text/x-python",
   "name": "python",
   "nbconvert_exporter": "python",
   "pygments_lexer": "ipython3",
   "version": "3.7.0"
  }
 },
 "nbformat": 4,
 "nbformat_minor": 5
}
